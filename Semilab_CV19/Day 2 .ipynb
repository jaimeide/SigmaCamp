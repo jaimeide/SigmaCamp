{
 "cells": [
  {
   "cell_type": "markdown",
   "metadata": {},
   "source": [
    "# Day 2\n",
    "\n",
    "## Goals\n",
    "- Creating and showing an image\n",
    "- Implement function to convolve\n",
    "    - Sliding windows: image (img) and a kernel (w[m,n])\n",
    "    - Sum of products: $g(x,y) = w*f(x,y) = \\sum^m_{i=1}{\\sum^n_{j=1}{w[i,j]\\times img[x-i,y-j]}}$\n",
    "- Opening images\n",
    "- Drawing on images\n",
    "- Saving images\n",
    "- Writing text\n",
    "- Histogram\n",
    "- Equalization\n",
    "- EXERCISE: find the red car\n",
    "- [ ] Tracking video example (LAST 10 min)"
   ]
  },
  {
   "cell_type": "markdown",
   "metadata": {},
   "source": [
    "## Import basic libraries"
   ]
  },
  {
   "cell_type": "code",
   "execution_count": null,
   "metadata": {},
   "outputs": [],
   "source": [
    "import numpy as np\n",
    "import matplotlib.pyplot as plt\n",
    "import cv2\n",
    "%matplotlib inline"
   ]
  },
  {
   "cell_type": "markdown",
   "metadata": {},
   "source": [
    "## Creating and showing images"
   ]
  },
  {
   "cell_type": "code",
   "execution_count": null,
   "metadata": {},
   "outputs": [],
   "source": [
    "# Create a zero matrix\n",
    "img = np.zeros([10,10])\n",
    "img"
   ]
  },
  {
   "cell_type": "code",
   "execution_count": null,
   "metadata": {},
   "outputs": [],
   "source": [
    "# Using pyplot to show image\n",
    "plt.imshow(img,cmap='gray') # Try not setting \"cmap\"... what happens?"
   ]
  },
  {
   "cell_type": "code",
   "execution_count": null,
   "metadata": {},
   "outputs": [],
   "source": [
    "# Draw a square manually\n",
    "img[4:7,4:7] = 255 # notice that the right index is exclusive when indexing\n",
    "img[5,5] = 0\n",
    "plt.imshow(img)"
   ]
  },
  {
   "cell_type": "code",
   "execution_count": null,
   "metadata": {},
   "outputs": [],
   "source": [
    "img.shape"
   ]
  },
  {
   "cell_type": "code",
   "execution_count": null,
   "metadata": {},
   "outputs": [],
   "source": [
    "pad = 1\n",
    "image = cv2.copyMakeBorder(img, pad, pad, pad, pad,cv2.BORDER_REPLICATE)\n",
    "plt.imshow(image)\n",
    "image.shape"
   ]
  },
  {
   "cell_type": "markdown",
   "metadata": {},
   "source": [
    "## Implement a function to convolve\n",
    "(15 minutes...)"
   ]
  },
  {
   "cell_type": "markdown",
   "metadata": {},
   "source": [
    "Given an image and a kernel (say 3x3), write a function that returns the convolved image. Assume that kernels have odd sizes.\n",
    "EXTRA: adapt the function to allow non-square shaped kernels."
   ]
  },
  {
   "cell_type": "code",
   "execution_count": null,
   "metadata": {},
   "outputs": [],
   "source": [
    "def convolve(image, kernel):\n",
    "    # 1) Grab the spatial dimensions of the image, along with\n",
    "    # the spatial dimensions of the kernel\n",
    "    \n",
    "    # 2) Allocate memory for the output image, taking care to\n",
    "    # \"pad\" the borders of the input image so the spatial\n",
    "    # size (i.e., width and height) are not reduced\n",
    "    # padding: if ur image is 10x10 and kernel is 3x3, padded image should be 12x12\n",
    "    \n",
    "    # 2.5) Output image\n",
    "    \n",
    "    # 3) Loop over the input image, \"sliding\" the kernel across\n",
    "    # each (x, y)-coordinate from left-to-right and top to\n",
    "    # bottom\n",
    "    for y in np.arange(pad, iH + pad):\n",
    "        for x in np.arange(pad, iW + pad):\n",
    "            # 4) Extract the ROI of the image by extracting the\n",
    "            # *center* region of the current (x, y)-coordinates\n",
    "            # dimensions\n",
    "            \n",
    "            \n",
    "            # 5) Perform the actual convolution by taking the\n",
    "            # element-wise multiplicate between the ROI and\n",
    "            # the kernel, then summing the matrix\n",
    "            \n",
    "            # 6) Store the convolved value in the output (x,y)-\n",
    "            # coordinate of the output image\n",
    "            \n",
    "    # 7) Rescale the output image to be in the range [0, 255]\n",
    "\n",
    "    \n",
    "    # return the output image\n",
    "    return output"
   ]
  },
  {
   "cell_type": "code",
   "execution_count": null,
   "metadata": {},
   "outputs": [],
   "source": [
    "# Matrix multiplication\n",
    "mat = np.arange(9).reshape(3,3)\n",
    "mat"
   ]
  },
  {
   "cell_type": "code",
   "execution_count": null,
   "metadata": {},
   "outputs": [],
   "source": []
  },
  {
   "cell_type": "code",
   "execution_count": null,
   "metadata": {},
   "outputs": [],
   "source": [
    "# Multiply by scale\n",
    "2*mat"
   ]
  },
  {
   "cell_type": "code",
   "execution_count": null,
   "metadata": {},
   "outputs": [],
   "source": [
    "# Multiply by matrix\n",
    "mat*mat"
   ]
  },
  {
   "cell_type": "code",
   "execution_count": null,
   "metadata": {},
   "outputs": [],
   "source": [
    "mat.shape[:2]"
   ]
  },
  {
   "cell_type": "code",
   "execution_count": null,
   "metadata": {},
   "outputs": [],
   "source": [
    "#from skimage.exposure import rescale_intensity\n",
    "\n",
    "def convolve(image, kernel):\n",
    "    # 1) Grab the spatial dimensions of the image, along with\n",
    "    # the spatial dimensions of the kernel\n",
    "    (iH, iW) = image.shape[:2]\n",
    "    (kH, kW) = kernel.shape[:2]\n",
    "    \n",
    "    # 2) Allocate memory for the output image, taking care to\n",
    "    # \"pad\" the borders of the input image so the spatial\n",
    "    # size (i.e., width and height) are not reduced\n",
    "    # padding: if ur image is 10x10 and kernel is 3x3, padded image should be 12x12\n",
    "    pad = (kW - 1) // 2 # if kernel width is kW=3, this will return  pad=1. \"//\" returns the quocient\n",
    "    image = cv2.copyMakeBorder(image, pad, pad, pad, pad,cv2.BORDER_REPLICATE)\n",
    "    # Output image\n",
    "    output = np.zeros((iH, iW), dtype=\"float32\")\n",
    "    \n",
    "    # 3) Loop over the input image, \"sliding\" the kernel across\n",
    "    # each (x, y)-coordinate from left-to-right and top to\n",
    "    # bottom\n",
    "    for y in np.arange(pad, iH + pad):\n",
    "        for x in np.arange(pad, iW + pad):\n",
    "            # 4) Extract the ROI of the image by extracting the\n",
    "            # *center* region of the current (x, y)-coordinates\n",
    "            # dimensions\n",
    "            roi = image[y - pad:y + pad + 1, x - pad:x + pad + 1]\n",
    " \n",
    "            # 5) Perform the actual convolution by taking the\n",
    "            # element-wise multiplicate between the ROI and\n",
    "            # the kernel, then summing the matrix\n",
    "            k = (roi * kernel).sum()\n",
    " \n",
    "            # 6) Store the convolved value in the output (x,y)-\n",
    "            # coordinate of the output image\n",
    "            output[y - pad, x - pad] = k\n",
    "            \n",
    "    # 7) Rescale the output image to be in the range [0, 255]\n",
    "    output = rescale_intensity(output, in_range=(0, 255))\n",
    "    output = (output * 255).astype(\"uint8\")\n",
    " \n",
    "    # return the output image\n",
    "    return output"
   ]
  },
  {
   "cell_type": "code",
   "execution_count": null,
   "metadata": {},
   "outputs": [],
   "source": [
    "## Create a image of a square and try you convolution function with different kernels\n",
    "img = np.zeros([10,10])\n",
    "img[4:7,4:7] = 255\n",
    "plt.imshow(img,cmap='gray')"
   ]
  },
  {
   "cell_type": "markdown",
   "metadata": {},
   "source": [
    "## Try out some popular kernels. What happens for each kernel?"
   ]
  },
  {
   "cell_type": "code",
   "execution_count": null,
   "metadata": {},
   "outputs": [],
   "source": [
    "# construct the Sobel x-axis kernel\n",
    "sobelX = np.array((\n",
    "[-1, 0, 1],\n",
    "[-2, 0, 2],\n",
    "[-1, 0, 1]), dtype=\"int\")\n",
    " \n",
    "# construct the Sobel y-axis kernel\n",
    "sobelY = np.array((\n",
    "[-1, -2, -1],\n",
    "[0, 0, 0],\n",
    "[1, 2, 1]), dtype=\"int\")\n",
    "\n",
    "# construct the Laplacian kernel used to detect edge-like\n",
    "# regions of an image\n",
    "laplacian = np.array((\n",
    "[0, 1, 0],\n",
    "[1, -4, 1],\n",
    "[0, 1, 0]), dtype=\"int\")"
   ]
  },
  {
   "cell_type": "code",
   "execution_count": null,
   "metadata": {},
   "outputs": [],
   "source": [
    "output1 = convolve(img,sobelX)\n",
    "plt.imshow(output1,cmap='gray')"
   ]
  },
  {
   "cell_type": "code",
   "execution_count": null,
   "metadata": {},
   "outputs": [],
   "source": [
    "output2 = convolve(img,sobelY)\n",
    "plt.imshow(output2,cmap='gray')"
   ]
  },
  {
   "cell_type": "code",
   "execution_count": null,
   "metadata": {},
   "outputs": [],
   "source": [
    "output3 = convolve(img,laplacian)\n",
    "plt.imshow(output3,cmap='gray')"
   ]
  },
  {
   "cell_type": "markdown",
   "metadata": {},
   "source": [
    "Try out some other kernels!"
   ]
  },
  {
   "cell_type": "code",
   "execution_count": null,
   "metadata": {},
   "outputs": [],
   "source": [
    "# Edge detection: what type of edge?\n",
    "k_edge = np.array((\n",
    "[-1, -1, -1],\n",
    "[-1, 8, -1],\n",
    "[-1, -1, -1]), dtype=\"int\")\n",
    "# Show result\n",
    "output = convolve(img,k_edge)\n",
    "plt.imshow(output,cmap='gray')"
   ]
  },
  {
   "cell_type": "code",
   "execution_count": null,
   "metadata": {},
   "outputs": [],
   "source": [
    "## Sharpen\n",
    "imgx = cv2.imread('ji2.jpg',0)\n",
    "k_sharp = np.array((\n",
    "[0, -1, 0],\n",
    "[-1, 5, -1],\n",
    "[0, -1, 0]), dtype=\"int\")\n",
    "# Show result\n",
    "output = convolve(imgx,k_sharp)\n",
    "fig = plt.figure(figsize=(7,10))\n",
    "plt.subplot(1,2,1)\n",
    "plt.imshow(imgx,cmap='gray')a\n",
    "plt.subplot(1,2,2)\n",
    "plt.imshow(output,cmap='gray')"
   ]
  },
  {
   "cell_type": "code",
   "execution_count": null,
   "metadata": {},
   "outputs": [],
   "source": [
    "## Gaussian blur\n",
    "imgx = cv2.imread('ji2.jpg',0)\n",
    "k_blur = np.array((\n",
    "[1, 2, 1],\n",
    "[2, 4, 2],\n",
    "[1, 2, 1]), dtype=\"int\")\n",
    "k_blur = 1/16*k_blur\n",
    "# Show result\n",
    "output = convolve(imgx,k_blur)\n",
    "fig = plt.figure(figsize=(7,10))\n",
    "plt.subplot(1,2,1)\n",
    "plt.imshow(imgx,cmap='gray')\n",
    "plt.subplot(1,2,2)\n",
    "plt.imshow(output,cmap='gray')"
   ]
  },
  {
   "cell_type": "code",
   "execution_count": null,
   "metadata": {},
   "outputs": [],
   "source": [
    "## Unsharp masking\n",
    "imgx = cv2.imread('ji2.jpg',0)\n",
    "k_unsharp = np.array((\n",
    "[1, 2, 1],\n",
    "[2, -24, 2],\n",
    "[1, 2, 1]), dtype=\"int\")\n",
    "k_sharp = -1/16*k_unsharp\n",
    "# Show result\n",
    "output = convolve(imgx,k_sharp)\n",
    "fig = plt.figure(figsize=(7,10))\n",
    "plt.subplot(1,2,1)\n",
    "plt.imshow(imgx,cmap='gray')\n",
    "plt.subplot(1,2,2)\n",
    "plt.imshow(output,cmap='gray')"
   ]
  },
  {
   "cell_type": "markdown",
   "metadata": {},
   "source": [
    "## Opening images"
   ]
  },
  {
   "cell_type": "code",
   "execution_count": null,
   "metadata": {
    "scrolled": true
   },
   "outputs": [],
   "source": [
    "## Image read (USE IMAGES THAT YOU COLLECTED)\n",
    "img = cv2.imread('sigmacamp.jpg') \n",
    "print(img.shape) # Hight, Width, Channels\n",
    "img # 8-bit image (each channel has values 0..255)"
   ]
  },
  {
   "cell_type": "code",
   "execution_count": null,
   "metadata": {},
   "outputs": [],
   "source": [
    "# WONT GIVE ERROR! GIVES NONE INSTEAD!!!\n",
    "img_empty = cv2.imread(\"some/wrong/path.jpg\")\n",
    "print(img_empty)"
   ]
  },
  {
   "cell_type": "code",
   "execution_count": null,
   "metadata": {},
   "outputs": [],
   "source": [
    "## Showing the image!\n",
    "plt.imshow(img)"
   ]
  },
  {
   "cell_type": "code",
   "execution_count": null,
   "metadata": {},
   "outputs": [],
   "source": [
    "# cv2.imread --> BGR\n",
    "# matplotlib.pyplot.imshow --> RGB\n",
    "# Converting\n",
    "img_rgb = cv2.cvtColor(img, cv2.COLOR_BGR2RGB)\n",
    "plt.imshow(img_rgb)"
   ]
  },
  {
   "cell_type": "code",
   "execution_count": null,
   "metadata": {},
   "outputs": [],
   "source": [
    "img_gray = cv2.imread('sigmacamp.jpg',cv2.IMREAD_GRAYSCALE)\n",
    "plt.imshow(img_gray) # greenish!!?? --> set colormap"
   ]
  },
  {
   "cell_type": "code",
   "execution_count": null,
   "metadata": {},
   "outputs": [],
   "source": [
    "img_gray = cv2.imread('sigmacamp.jpg',cv2.IMREAD_GRAYSCALE)\n",
    "plt.imshow(img_gray,cmap = 'gray') # greenish!!?? --> set colormap"
   ]
  },
  {
   "cell_type": "code",
   "execution_count": null,
   "metadata": {},
   "outputs": [],
   "source": [
    "img_gray = cv2.imread('sigmacamp.jpg',0)\n",
    "plt.imshow(img_gray,cmap = 'gray') # Will work too!"
   ]
  },
  {
   "cell_type": "code",
   "execution_count": null,
   "metadata": {},
   "outputs": [],
   "source": [
    "## Resizing by dimensions\n",
    "img =cv2.resize(img_rgb,(1300,275))\n",
    "plt.imshow(img)"
   ]
  },
  {
   "cell_type": "markdown",
   "metadata": {},
   "source": [
    "## Drawing, writing text and saving images"
   ]
  },
  {
   "cell_type": "code",
   "execution_count": null,
   "metadata": {},
   "outputs": [],
   "source": [
    "## Create a blanck image\n",
    "blank_img = np.zeros(shape=(512,512,3),dtype=np.int16)\n",
    "plt.imshow(blank_img)"
   ]
  },
  {
   "cell_type": "markdown",
   "metadata": {},
   "source": [
    "### Rectangles\n",
    " (Try other shapes as well!)\n",
    "- Input parameters:\n",
    "    * img Image.\n",
    "    * pt1 Vertex of the rectangle.\n",
    "    * pt2 Vertex of the rectangle opposite to pt1 .\n",
    "    * color Rectangle color or brightness (grayscale image).\n",
    "    * thickness Thickness of lines that make up the rectangle. Negative values, like #FILLED,mean that the function has to draw a filled rectangle."
   ]
  },
  {
   "cell_type": "code",
   "execution_count": null,
   "metadata": {},
   "outputs": [],
   "source": [
    "# pt1 = top left\n",
    "# pt2 = bottom right\n",
    "cv2.rectangle(blank_img,pt1=(384,0),pt2=(510,128),color=(0,255,0),thickness=5)\n",
    "plt.imshow(blank_img)"
   ]
  },
  {
   "cell_type": "code",
   "execution_count": null,
   "metadata": {},
   "outputs": [],
   "source": [
    "font = cv2.FONT_HERSHEY_SIMPLEX\n",
    "cv2.putText(blank_img,text='Hello',org=(10,500), fontFace=font,fontScale= 4,color=(255,255,255),thickness=2,lineType=cv2.LINE_AA)\n",
    "plt.imshow(blank_img)"
   ]
  },
  {
   "cell_type": "code",
   "execution_count": null,
   "metadata": {},
   "outputs": [],
   "source": [
    "# save image and check it!\n",
    "status = cv2.imwrite('myart.png',blank_img)\n",
    "print(\"Image written to file-system : \",status)"
   ]
  },
  {
   "cell_type": "markdown",
   "metadata": {},
   "source": [
    "### Create useful functions"
   ]
  },
  {
   "cell_type": "code",
   "execution_count": null,
   "metadata": {},
   "outputs": [],
   "source": [
    "def show_rgb(img):\n",
    "    # Will expect RGB\n",
    "    img_rgb = cv2.cvtColor(img, cv2.COLOR_BGR2RGB)\n",
    "    plt.imshow(img_rgb)\n",
    "    plt.title('Look weird if you entered BGR...')\n",
    "    plt.show()\n",
    "    \n",
    "def show_bgr(img):\n",
    "    # Will expect RGB\n",
    "    img_rgb = cv2.cvtColor(img, cv2.COLOR_BGR2RGB)\n",
    "    plt.imshow(img_rgb)\n",
    "    plt.title('Look weird if you entered BGR...')\n",
    "    plt.show()\n",
    "    \n",
    "def show_cv2(img):\n",
    "    # Input should be BGR\n",
    "    cv2.imshow('image',img)\n",
    "    \n",
    "    cv2.waitKey(0) # Closes with any key\n",
    "    cv2.destroyAllWindows()\n",
    "    \n",
    "def display(img,cmap=None):\n",
    "    # Create with larger size\n",
    "    fig = plt.figure(figsize=(10,8))\n",
    "    ax = fig.add_subplot(111)\n",
    "    ax.imshow(img,cmap)"
   ]
  },
  {
   "cell_type": "markdown",
   "metadata": {},
   "source": [
    "## Histogram"
   ]
  },
  {
   "cell_type": "code",
   "execution_count": null,
   "metadata": {},
   "outputs": [],
   "source": [
    "# Load your image (load the images that you collected)\n",
    "gorilla = cv2.imread('gorilla.jpg')\n",
    "gorilla0 = cv2.imread('gorilla.jpg',0)\n",
    "show_bgr(gorilla)"
   ]
  },
  {
   "cell_type": "code",
   "execution_count": null,
   "metadata": {},
   "outputs": [],
   "source": [
    "# Display in grayscale\n",
    "display(gorilla0,cmap='gray')"
   ]
  },
  {
   "cell_type": "code",
   "execution_count": null,
   "metadata": {},
   "outputs": [],
   "source": [
    "# Function to compute histogram\n",
    "hist_values = cv2.calcHist([gorilla0],channels=[0],mask=None,histSize=[256],ranges=[0,256])"
   ]
  },
  {
   "cell_type": "code",
   "execution_count": null,
   "metadata": {},
   "outputs": [],
   "source": [
    "# Plot the histogram: What are the 2 peaks?\n",
    "plt.plot(hist_values)"
   ]
  },
  {
   "cell_type": "markdown",
   "metadata": {},
   "source": [
    "### [ ] Do you see any \"problem\" in this histogram?"
   ]
  },
  {
   "cell_type": "markdown",
   "metadata": {},
   "source": [
    "## Equalization"
   ]
  },
  {
   "cell_type": "code",
   "execution_count": null,
   "metadata": {},
   "outputs": [],
   "source": [
    "# EQUALIZATION: What do you think it will do?\n",
    "egorilla0 = cv2.equalizeHist(gorilla0)"
   ]
  },
  {
   "cell_type": "code",
   "execution_count": null,
   "metadata": {},
   "outputs": [],
   "source": [
    "hist_values = cv2.calcHist([egorilla0],channels=[0],mask=None,histSize=[256],ranges=[0,256])\n",
    "plt.plot(hist_values)"
   ]
  },
  {
   "cell_type": "code",
   "execution_count": null,
   "metadata": {},
   "outputs": [],
   "source": [
    "# How does the image will look like?\n",
    "display(egorilla0,cmap='gray')"
   ]
  },
  {
   "cell_type": "markdown",
   "metadata": {},
   "source": [
    "## EXERCISE: Find the square containing the most red car"
   ]
  },
  {
   "cell_type": "code",
   "execution_count": null,
   "metadata": {},
   "outputs": [],
   "source": [
    "cars_bgr = cv2.imread('carparking.jpg') # BGR\n",
    "cars = cv2.cvtColor(cars_bgr,cv2.COLOR_BGR2RGB)\n",
    "display(cars)"
   ]
  },
  {
   "cell_type": "markdown",
   "metadata": {},
   "source": [
    "### Possible solution... divide in say 2x4 quadrants"
   ]
  },
  {
   "cell_type": "code",
   "execution_count": null,
   "metadata": {},
   "outputs": [],
   "source": [
    "def split_img(img,nhorizontal,nvertical,n):\n",
    "    # Function will split and return the image counting from Left to Down\n",
    "    # n starting from \"0\"\n",
    "    [height,width,_] = img.shape\n",
    "    xsize = width // nhorizontal\n",
    "    ysize = height // nvertical\n",
    "    y = n // nhorizontal  # quocient\n",
    "    x = n % nhorizontal # remainder\n",
    "    print('ysize:',ysize)\n",
    "    print('xsize:',xsize)\n",
    "    print('y:',y)\n",
    "    print('x:',x)\n",
    "    return img[y*ysize:(y+1)*ysize, x*xsize:(x+1)*xsize, :] \n",
    "\n",
    "def divide_4x2():\n",
    "    fname = 'carparking.jpg'\n",
    "    img = cv2.imread(fname) # BGR\n",
    "    \n",
    "    img1 = split_img(img,4,2,1)\n",
    "    # Use opencv to convert color scheme: RGB --> \n",
    "    img2 = cv2.cvtColor(img1, cv2.COLOR_RGB2BGR)\n",
    "    plt.imshow(img2)\n",
    "    plt.show()\n",
    "    #show_plt(img)\n",
    "    #show_cv2(img)"
   ]
  },
  {
   "cell_type": "code",
   "execution_count": null,
   "metadata": {},
   "outputs": [],
   "source": [
    "divide_4x2()"
   ]
  },
  {
   "cell_type": "code",
   "execution_count": null,
   "metadata": {},
   "outputs": [],
   "source": [
    "## SOLUTION:\n",
    "\n",
    "# Load the image\n",
    "fname = 'carparking.jpg'\n",
    "img = cv2.imread(fname) # BGR\n",
    "\n",
    "channel = 2 # BGR (get the read channer)\n",
    "imgs = []\n",
    "redlevel = 0\n",
    "# Iterate through the quadrants and find the one with maximum RED value\n",
    "for i in range(8):\n",
    "    # Sub-image\n",
    "    simg = split_img(img,4,2,i) # BGR\n",
    "    # Get RED channel\n",
    "    redimg = simg[:,:,channel]\n",
    "    # SUM and keep max\n",
    "    if redimg.sum() > redlevel:\n",
    "        print()\n",
    "        img_selected = simg\n",
    "        redlevel = redimg.sum()        \n",
    "\n",
    "# Use opencv to convert color scheme: RGB --> \n",
    "#imgX = cv2.cvtColor(img_selected, cv2.COLOR_RGB2BGR)\n",
    "#plt.imshow(imgX)\n",
    "#plt.show()\n",
    "show_bgr(img_selected)\n",
    "#show_cv2(img)"
   ]
  },
  {
   "cell_type": "code",
   "execution_count": null,
   "metadata": {},
   "outputs": [],
   "source": []
  }
 ],
 "metadata": {
  "kernelspec": {
   "display_name": "Python 3",
   "language": "python",
   "name": "python3"
  },
  "language_info": {
   "codemirror_mode": {
    "name": "ipython",
    "version": 3
   },
   "file_extension": ".py",
   "mimetype": "text/x-python",
   "name": "python",
   "nbconvert_exporter": "python",
   "pygments_lexer": "ipython3",
   "version": "3.5.5"
  }
 },
 "nbformat": 4,
 "nbformat_minor": 2
}
